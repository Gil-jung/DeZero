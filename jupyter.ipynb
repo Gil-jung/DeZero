{
 "cells": [
  {
   "cell_type": "markdown",
   "metadata": {},
   "source": [
    "pip uninstall cupy-cuda12x\n",
    "\n",
    "nvcc --version\n",
    "\n",
    "conda install -c conda-forge cupy cuda-version=12.1"
   ]
  },
  {
   "cell_type": "code",
   "execution_count": 2,
   "metadata": {},
   "outputs": [
    {
     "ename": "UnicodeDecodeError",
     "evalue": "'utf-8' codec can't decode byte 0xbc in position 226: invalid start byte",
     "output_type": "error",
     "traceback": [
      "\u001b[1;31m---------------------------------------------------------------------------\u001b[0m",
      "\u001b[1;31mNVRTCError\u001b[0m                                Traceback (most recent call last)",
      "File \u001b[1;32mc:\\Anaconda3\\Lib\\site-packages\\cupy\\cuda\\compiler.py:677\u001b[0m, in \u001b[0;36m_NVRTCProgram.compile\u001b[1;34m(self, options, log_stream)\u001b[0m\n\u001b[0;32m    676\u001b[0m         nvrtc\u001b[38;5;241m.\u001b[39maddNameExpression(\u001b[38;5;28mself\u001b[39m\u001b[38;5;241m.\u001b[39mptr, ker)\n\u001b[1;32m--> 677\u001b[0m nvrtc\u001b[38;5;241m.\u001b[39mcompileProgram(\u001b[38;5;28mself\u001b[39m\u001b[38;5;241m.\u001b[39mptr, options)\n\u001b[0;32m    678\u001b[0m mapping \u001b[38;5;241m=\u001b[39m \u001b[38;5;28;01mNone\u001b[39;00m\n",
      "File \u001b[1;32mcupy_backends\\cuda\\libs\\nvrtc.pyx:125\u001b[0m, in \u001b[0;36mcupy_backends.cuda.libs.nvrtc.compileProgram\u001b[1;34m()\u001b[0m\n",
      "File \u001b[1;32mcupy_backends\\cuda\\libs\\nvrtc.pyx:138\u001b[0m, in \u001b[0;36mcupy_backends.cuda.libs.nvrtc.compileProgram\u001b[1;34m()\u001b[0m\n",
      "File \u001b[1;32mcupy_backends\\cuda\\libs\\nvrtc.pyx:53\u001b[0m, in \u001b[0;36mcupy_backends.cuda.libs.nvrtc.check_status\u001b[1;34m()\u001b[0m\n",
      "\u001b[1;31mNVRTCError\u001b[0m: NVRTC_ERROR_COMPILATION (6)",
      "\nDuring handling of the above exception, another exception occurred:\n",
      "\u001b[1;31mUnicodeDecodeError\u001b[0m                        Traceback (most recent call last)",
      "Cell \u001b[1;32mIn[2], line 3\u001b[0m\n\u001b[0;32m      1\u001b[0m \u001b[38;5;28;01mimport\u001b[39;00m \u001b[38;5;21;01mcupy\u001b[39;00m \u001b[38;5;28;01mas\u001b[39;00m \u001b[38;5;21;01mcp\u001b[39;00m\n\u001b[1;32m----> 3\u001b[0m x \u001b[38;5;241m=\u001b[39m cp\u001b[38;5;241m.\u001b[39marange(\u001b[38;5;241m6\u001b[39m)\u001b[38;5;241m.\u001b[39mreshape(\u001b[38;5;241m2\u001b[39m, \u001b[38;5;241m3\u001b[39m)\n\u001b[0;32m      4\u001b[0m \u001b[38;5;28mprint\u001b[39m(x)\n\u001b[0;32m      6\u001b[0m y \u001b[38;5;241m=\u001b[39m x\u001b[38;5;241m.\u001b[39msum(axis\u001b[38;5;241m=\u001b[39m\u001b[38;5;241m1\u001b[39m)\n",
      "File \u001b[1;32mc:\\Anaconda3\\Lib\\site-packages\\cupy\\_creation\\ranges.py:60\u001b[0m, in \u001b[0;36marange\u001b[1;34m(start, stop, step, dtype)\u001b[0m\n\u001b[0;32m     58\u001b[0m ret \u001b[38;5;241m=\u001b[39m cupy\u001b[38;5;241m.\u001b[39mempty((size,), dtype\u001b[38;5;241m=\u001b[39mdtype)\n\u001b[0;32m     59\u001b[0m typ \u001b[38;5;241m=\u001b[39m numpy\u001b[38;5;241m.\u001b[39mdtype(dtype)\u001b[38;5;241m.\u001b[39mtype\n\u001b[1;32m---> 60\u001b[0m _arange_ufunc(typ(start), typ(step), ret, dtype\u001b[38;5;241m=\u001b[39mdtype)\n\u001b[0;32m     61\u001b[0m \u001b[38;5;28;01mreturn\u001b[39;00m ret\n",
      "File \u001b[1;32mcupy\\_core\\_kernel.pyx:1375\u001b[0m, in \u001b[0;36mcupy._core._kernel.ufunc.__call__\u001b[1;34m()\u001b[0m\n",
      "File \u001b[1;32mcupy\\_core\\_kernel.pyx:1402\u001b[0m, in \u001b[0;36mcupy._core._kernel.ufunc._get_ufunc_kernel\u001b[1;34m()\u001b[0m\n",
      "File \u001b[1;32mcupy\\_core\\_kernel.pyx:1082\u001b[0m, in \u001b[0;36mcupy._core._kernel._get_ufunc_kernel\u001b[1;34m()\u001b[0m\n",
      "File \u001b[1;32mcupy\\_core\\_kernel.pyx:94\u001b[0m, in \u001b[0;36mcupy._core._kernel._get_simple_elementwise_kernel\u001b[1;34m()\u001b[0m\n",
      "File \u001b[1;32mcupy\\_core\\_kernel.pyx:82\u001b[0m, in \u001b[0;36mcupy._core._kernel._get_simple_elementwise_kernel_from_code\u001b[1;34m()\u001b[0m\n",
      "File \u001b[1;32mcupy\\_core\\core.pyx:2258\u001b[0m, in \u001b[0;36mcupy._core.core.compile_with_cache\u001b[1;34m()\u001b[0m\n",
      "File \u001b[1;32mc:\\Anaconda3\\Lib\\site-packages\\cupy\\cuda\\compiler.py:484\u001b[0m, in \u001b[0;36m_compile_module_with_cache\u001b[1;34m(source, options, arch, cache_dir, extra_source, backend, enable_cooperative_groups, name_expressions, log_stream, jitify)\u001b[0m\n\u001b[0;32m    480\u001b[0m     \u001b[38;5;28;01mreturn\u001b[39;00m _compile_with_cache_hip(\n\u001b[0;32m    481\u001b[0m         source, options, arch, cache_dir, extra_source, backend,\n\u001b[0;32m    482\u001b[0m         name_expressions, log_stream, cache_in_memory)\n\u001b[0;32m    483\u001b[0m \u001b[38;5;28;01melse\u001b[39;00m:\n\u001b[1;32m--> 484\u001b[0m     \u001b[38;5;28;01mreturn\u001b[39;00m _compile_with_cache_cuda(\n\u001b[0;32m    485\u001b[0m         source, options, arch, cache_dir, extra_source, backend,\n\u001b[0;32m    486\u001b[0m         enable_cooperative_groups, name_expressions, log_stream,\n\u001b[0;32m    487\u001b[0m         cache_in_memory, jitify)\n",
      "File \u001b[1;32mc:\\Anaconda3\\Lib\\site-packages\\cupy\\cuda\\compiler.py:562\u001b[0m, in \u001b[0;36m_compile_with_cache_cuda\u001b[1;34m(source, options, arch, cache_dir, extra_source, backend, enable_cooperative_groups, name_expressions, log_stream, cache_in_memory, jitify)\u001b[0m\n\u001b[0;32m    560\u001b[0m \u001b[38;5;28;01mif\u001b[39;00m backend \u001b[38;5;241m==\u001b[39m \u001b[38;5;124m'\u001b[39m\u001b[38;5;124mnvrtc\u001b[39m\u001b[38;5;124m'\u001b[39m:\n\u001b[0;32m    561\u001b[0m     cu_name \u001b[38;5;241m=\u001b[39m \u001b[38;5;124m'\u001b[39m\u001b[38;5;124m'\u001b[39m \u001b[38;5;28;01mif\u001b[39;00m cache_in_memory \u001b[38;5;28;01melse\u001b[39;00m name \u001b[38;5;241m+\u001b[39m \u001b[38;5;124m'\u001b[39m\u001b[38;5;124m.cu\u001b[39m\u001b[38;5;124m'\u001b[39m\n\u001b[1;32m--> 562\u001b[0m     ptx, mapping \u001b[38;5;241m=\u001b[39m compile_using_nvrtc(\n\u001b[0;32m    563\u001b[0m         source, options, arch, cu_name, name_expressions,\n\u001b[0;32m    564\u001b[0m         log_stream, cache_in_memory, jitify)\n\u001b[0;32m    565\u001b[0m     \u001b[38;5;28;01mif\u001b[39;00m _is_cudadevrt_needed(options):\n\u001b[0;32m    566\u001b[0m         \u001b[38;5;66;03m# for separate compilation\u001b[39;00m\n\u001b[0;32m    567\u001b[0m         ls \u001b[38;5;241m=\u001b[39m function\u001b[38;5;241m.\u001b[39mLinkState()\n",
      "File \u001b[1;32mc:\\Anaconda3\\Lib\\site-packages\\cupy\\cuda\\compiler.py:319\u001b[0m, in \u001b[0;36mcompile_using_nvrtc\u001b[1;34m(source, options, arch, filename, name_expressions, log_stream, cache_in_memory, jitify)\u001b[0m\n\u001b[0;32m    316\u001b[0m         \u001b[38;5;28;01mwith\u001b[39;00m \u001b[38;5;28mopen\u001b[39m(cu_path, \u001b[38;5;124m'\u001b[39m\u001b[38;5;124mw\u001b[39m\u001b[38;5;124m'\u001b[39m) \u001b[38;5;28;01mas\u001b[39;00m cu_file:\n\u001b[0;32m    317\u001b[0m             cu_file\u001b[38;5;241m.\u001b[39mwrite(source)\n\u001b[1;32m--> 319\u001b[0m         \u001b[38;5;28;01mreturn\u001b[39;00m _compile(source, options, cu_path,\n\u001b[0;32m    320\u001b[0m                         name_expressions, log_stream, jitify)\n\u001b[0;32m    321\u001b[0m \u001b[38;5;28;01melse\u001b[39;00m:\n\u001b[0;32m    322\u001b[0m     cu_path \u001b[38;5;241m=\u001b[39m \u001b[38;5;124m'\u001b[39m\u001b[38;5;124m'\u001b[39m \u001b[38;5;28;01mif\u001b[39;00m \u001b[38;5;129;01mnot\u001b[39;00m jitify \u001b[38;5;28;01melse\u001b[39;00m filename\n",
      "File \u001b[1;32mc:\\Anaconda3\\Lib\\site-packages\\cupy\\cuda\\compiler.py:303\u001b[0m, in \u001b[0;36mcompile_using_nvrtc.<locals>._compile\u001b[1;34m(source, options, cu_path, name_expressions, log_stream, jitify)\u001b[0m\n\u001b[0;32m    300\u001b[0m prog \u001b[38;5;241m=\u001b[39m _NVRTCProgram(source, cu_path, headers, include_names,\n\u001b[0;32m    301\u001b[0m                      name_expressions\u001b[38;5;241m=\u001b[39mname_expressions, method\u001b[38;5;241m=\u001b[39mmethod)\n\u001b[0;32m    302\u001b[0m \u001b[38;5;28;01mtry\u001b[39;00m:\n\u001b[1;32m--> 303\u001b[0m     compiled_obj, mapping \u001b[38;5;241m=\u001b[39m prog\u001b[38;5;241m.\u001b[39mcompile(options, log_stream)\n\u001b[0;32m    304\u001b[0m \u001b[38;5;28;01mexcept\u001b[39;00m CompileException \u001b[38;5;28;01mas\u001b[39;00m e:\n\u001b[0;32m    305\u001b[0m     dump \u001b[38;5;241m=\u001b[39m _get_bool_env_variable(\n\u001b[0;32m    306\u001b[0m         \u001b[38;5;124m'\u001b[39m\u001b[38;5;124mCUPY_DUMP_CUDA_SOURCE_ON_ERROR\u001b[39m\u001b[38;5;124m'\u001b[39m, \u001b[38;5;28;01mFalse\u001b[39;00m)\n",
      "File \u001b[1;32mc:\\Anaconda3\\Lib\\site-packages\\cupy\\cuda\\compiler.py:695\u001b[0m, in \u001b[0;36m_NVRTCProgram.compile\u001b[1;34m(self, options, log_stream)\u001b[0m\n\u001b[0;32m    693\u001b[0m         \u001b[38;5;28;01mraise\u001b[39;00m \u001b[38;5;167;01mRuntimeError\u001b[39;00m(\u001b[38;5;124m'\u001b[39m\u001b[38;5;124mUnknown NVRTC compile method\u001b[39m\u001b[38;5;124m'\u001b[39m)\n\u001b[0;32m    694\u001b[0m \u001b[38;5;28;01mexcept\u001b[39;00m nvrtc\u001b[38;5;241m.\u001b[39mNVRTCError:\n\u001b[1;32m--> 695\u001b[0m     log \u001b[38;5;241m=\u001b[39m nvrtc\u001b[38;5;241m.\u001b[39mgetProgramLog(\u001b[38;5;28mself\u001b[39m\u001b[38;5;241m.\u001b[39mptr)\n\u001b[0;32m    696\u001b[0m     \u001b[38;5;28;01mraise\u001b[39;00m CompileException(log, \u001b[38;5;28mself\u001b[39m\u001b[38;5;241m.\u001b[39msrc, \u001b[38;5;28mself\u001b[39m\u001b[38;5;241m.\u001b[39mname, options,\n\u001b[0;32m    697\u001b[0m                            \u001b[38;5;124m'\u001b[39m\u001b[38;5;124mnvrtc\u001b[39m\u001b[38;5;124m'\u001b[39m \u001b[38;5;28;01mif\u001b[39;00m \u001b[38;5;129;01mnot\u001b[39;00m runtime\u001b[38;5;241m.\u001b[39mis_hip \u001b[38;5;28;01melse\u001b[39;00m \u001b[38;5;124m'\u001b[39m\u001b[38;5;124mhiprtc\u001b[39m\u001b[38;5;124m'\u001b[39m)\n",
      "File \u001b[1;32mcupy_backends\\cuda\\libs\\nvrtc.pyx:211\u001b[0m, in \u001b[0;36mcupy_backends.cuda.libs.nvrtc.getProgramLog\u001b[1;34m()\u001b[0m\n",
      "File \u001b[1;32mcupy_backends\\cuda\\libs\\nvrtc.pyx:228\u001b[0m, in \u001b[0;36mcupy_backends.cuda.libs.nvrtc.getProgramLog\u001b[1;34m()\u001b[0m\n",
      "\u001b[1;31mUnicodeDecodeError\u001b[0m: 'utf-8' codec can't decode byte 0xbc in position 226: invalid start byte"
     ]
    }
   ],
   "source": [
    "import cupy as cp\n",
    "\n",
    "x = cp.arange(6).reshape(2, 3)\n",
    "print(x)\n",
    "\n",
    "y = x.sum(axis=1)\n",
    "print(y)"
   ]
  },
  {
   "cell_type": "code",
   "execution_count": 4,
   "metadata": {},
   "outputs": [],
   "source": [
    "import numpy as np\n",
    "import cupy as cp\n",
    "\n",
    "n = np.array([1, 2, 3])\n",
    "c = cp.asarray(n)\n",
    "assert type(c) == cp.ndarray\n",
    "\n",
    "c = cp.array([1, 2, 3])\n",
    "n = cp.asnumpy(c)\n",
    "assert type(n) == np.ndarray"
   ]
  },
  {
   "cell_type": "code",
   "execution_count": 5,
   "metadata": {},
   "outputs": [],
   "source": [
    "x = np.array([1, 2, 3])\n",
    "xp = cp.get_array_module(x)\n",
    "assert xp == np\n",
    "\n",
    "x = cp.array([1, 2, 3])\n",
    "xp = cp.get_array_module(x)\n",
    "assert xp == cp"
   ]
  },
  {
   "cell_type": "code",
   "execution_count": null,
   "metadata": {},
   "outputs": [],
   "source": []
  }
 ],
 "metadata": {
  "kernelspec": {
   "display_name": "base",
   "language": "python",
   "name": "python3"
  },
  "language_info": {
   "codemirror_mode": {
    "name": "ipython",
    "version": 3
   },
   "file_extension": ".py",
   "mimetype": "text/x-python",
   "name": "python",
   "nbconvert_exporter": "python",
   "pygments_lexer": "ipython3",
   "version": "3.11.7"
  }
 },
 "nbformat": 4,
 "nbformat_minor": 2
}
